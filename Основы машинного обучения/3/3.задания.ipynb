{
 "cells": [
  {
   "cell_type": "code",
   "execution_count": 1,
   "id": "7af47970",
   "metadata": {},
   "outputs": [
    {
     "name": "stdout",
     "output_type": "stream",
     "text": [
      "0.00321\n"
     ]
    }
   ],
   "source": [
    "import numpy as np\n",
    "from scipy.stats import pearsonr, spearmanr\n",
    "\n",
    "# Данные\n",
    "temperature = np.array([37.2, 37.5, 38.8, 38.3, 39.2, 39.7])\n",
    "heart_rate = np.array([80, 85, 95, 95, 100, 105])\n",
    "\n",
    "# Коэффициент корреляции Пирсона\n",
    "pearson_corr, _ = pearsonr(temperature, heart_rate)\n",
    "\n",
    "# Коэффициент корреляции Спирмена\n",
    "spearman_corr, _ = spearmanr(temperature, heart_rate)\n",
    "\n",
    "# Разность между коэффициентами\n",
    "difference = spearman_corr - pearson_corr\n",
    "\n",
    "# Округляем до 5 знаков после запятой\n",
    "difference_rounded = round(difference, 5)\n",
    "\n",
    "print(difference_rounded)\n"
   ]
  }
 ],
 "metadata": {
  "kernelspec": {
   "display_name": ".venv",
   "language": "python",
   "name": "python3"
  },
  "language_info": {
   "codemirror_mode": {
    "name": "ipython",
    "version": 3
   },
   "file_extension": ".py",
   "mimetype": "text/x-python",
   "name": "python",
   "nbconvert_exporter": "python",
   "pygments_lexer": "ipython3",
   "version": "3.13.0"
  }
 },
 "nbformat": 4,
 "nbformat_minor": 5
}
