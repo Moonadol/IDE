{
 "cells": [
  {
   "cell_type": "code",
   "execution_count": 18,
   "metadata": {},
   "outputs": [],
   "source": [
    "import pandas as pd"
   ]
  },
  {
   "cell_type": "code",
   "execution_count": 19,
   "metadata": {},
   "outputs": [
    {
     "name": "stderr",
     "output_type": "stream",
     "text": [
      "<>:1: SyntaxWarning: invalid escape sequence '\\I'\n",
      "<>:1: SyntaxWarning: invalid escape sequence '\\I'\n",
      "C:\\Users\\PUFIK\\AppData\\Local\\Temp\\ipykernel_8616\\315371835.py:1: SyntaxWarning: invalid escape sequence '\\I'\n",
      "  data= pd.read_csv('C:\\IDE\\PYTHON\\Базовые приёмы работы с данными в Pandas\\код\\citibike-tripdata.csv', sep=',')\n"
     ]
    }
   ],
   "source": [
    "data= pd.read_csv('C:\\IDE\\PYTHON\\Базовые приёмы работы с данными в Pandas\\код\\citibike-tripdata.csv', sep=',')"
   ]
  },
  {
   "cell_type": "code",
   "execution_count": 20,
   "metadata": {},
   "outputs": [
    {
     "name": "stdout",
     "output_type": "stream",
     "text": [
      "Количество пропущенных значений: 169\n"
     ]
    }
   ],
   "source": [
    "missing_values = data['start station id'].isna().sum()\n",
    "print(\"Количество пропущенных значений:\", missing_values)"
   ]
  },
  {
   "cell_type": "code",
   "execution_count": 21,
   "metadata": {},
   "outputs": [
    {
     "name": "stdout",
     "output_type": "stream",
     "text": [
      "Типы данных столбцов:\n",
      "starttime    object\n",
      "stoptime     object\n",
      "dtype: object\n"
     ]
    }
   ],
   "source": [
    "print(\"Типы данных столбцов:\")\n",
    "print(data[['starttime', 'stoptime']].dtypes)"
   ]
  },
  {
   "cell_type": "code",
   "execution_count": 22,
   "metadata": {},
   "outputs": [
    {
     "name": "stdout",
     "output_type": "stream",
     "text": [
      "281.0\n"
     ]
    }
   ],
   "source": [
    "print(data['start station id'].mode()[0])"
   ]
  },
  {
   "cell_type": "code",
   "execution_count": 23,
   "metadata": {},
   "outputs": [
    {
     "name": "stdout",
     "output_type": "stream",
     "text": [
      "33887\n"
     ]
    }
   ],
   "source": [
    "print(data['bikeid'].mode()[0])"
   ]
  },
  {
   "cell_type": "code",
   "execution_count": 24,
   "metadata": {},
   "outputs": [
    {
     "name": "stdout",
     "output_type": "stream",
     "text": [
      "0.77\n"
     ]
    }
   ],
   "source": [
    "mode_usertype = data['usertype'].mode()[0]\n",
    "count_mode_user = data[data['usertype'] == mode_usertype].shape[0]\n",
    "print(round(count_mode_user / data.shape[0], 2))"
   ]
  },
  {
   "cell_type": "code",
   "execution_count": 25,
   "metadata": {},
   "outputs": [
    {
     "name": "stdout",
     "output_type": "stream",
     "text": [
      "183582\n"
     ]
    }
   ],
   "source": [
    "male_count = data[data['gender'] == 1].shape[0]\n",
    "female_count = data[data['gender'] == 0].shape[0]\n",
    "print(max([male_count, female_count]))"
   ]
  },
  {
   "cell_type": "code",
   "execution_count": 26,
   "metadata": {},
   "outputs": [
    {
     "name": "stdout",
     "output_type": "stream",
     "text": [
      "12\n"
     ]
    }
   ],
   "source": [
    "data.drop(['start station id', 'end station id'], axis=1, inplace=True)\n",
    "print(data.shape[1])"
   ]
  },
  {
   "cell_type": "code",
   "execution_count": 27,
   "metadata": {},
   "outputs": [
    {
     "name": "stdout",
     "output_type": "stream",
     "text": [
      "11837\n"
     ]
    }
   ],
   "source": [
    "data['age'] = 2018 - data['birth year']\n",
    "data.drop(['birth year'], axis=1, inplace=True)\n",
    "print(data[data['age'] > 60].shape[0])"
   ]
  },
  {
   "cell_type": "code",
   "execution_count": 28,
   "metadata": {},
   "outputs": [
    {
     "data": {
      "text/plain": [
       "Timedelta('0 days 00:07:16.837000')"
      ]
     },
     "execution_count": 28,
     "metadata": {},
     "output_type": "execute_result"
    }
   ],
   "source": [
    "data['starttime'] = pd.to_datetime(data['starttime'])\n",
    "data['stoptime'] = pd.to_datetime(data['stoptime'])\n",
    "data['trip duration'] = (data['stoptime'] - data['starttime'])\n",
    "data.loc[3, 'trip duration']"
   ]
  },
  {
   "cell_type": "code",
   "execution_count": 29,
   "metadata": {},
   "outputs": [
    {
     "data": {
      "text/plain": [
       "np.int64(115135)"
      ]
     },
     "execution_count": 29,
     "metadata": {},
     "output_type": "execute_result"
    }
   ],
   "source": [
    "weekday = data['starttime'].dt.dayofweek\n",
    "data['weekend'] = weekday.apply(lambda x: 1 if x ==5 or x == 6 else 0)\n",
    "data['weekend'].sum()"
   ]
  },
  {
   "cell_type": "code",
   "execution_count": 30,
   "metadata": {},
   "outputs": [
    {
     "name": "stdout",
     "output_type": "stream",
     "text": [
      "9\n"
     ]
    }
   ],
   "source": [
    "def get_time_of_day(time):\n",
    "    if 0 <= time <= 6:\n",
    "        return 'night'\n",
    "    elif 6 < time <= 12:\n",
    "        return 'morning'\n",
    "    elif 12 < time <= 18:\n",
    "        return 'day'\n",
    "    elif 18 < time <= 23:\n",
    "        return 'evening'\n",
    "\n",
    "data['time_of_day'] = data['starttime'].dt.hour.apply(get_time_of_day)\n",
    "a = data[data['time_of_day'] == 'day'].shape[0]\n",
    "b = data[data['time_of_day'] == 'night'].shape[0]\n",
    "print(round(a / b))"
   ]
  }
 ],
 "metadata": {
  "kernelspec": {
   "display_name": "Python 3",
   "language": "python",
   "name": "python3"
  },
  "language_info": {
   "codemirror_mode": {
    "name": "ipython",
    "version": 3
   },
   "file_extension": ".py",
   "mimetype": "text/x-python",
   "name": "python",
   "nbconvert_exporter": "python",
   "pygments_lexer": "ipython3",
   "version": "3.13.0"
  }
 },
 "nbformat": 4,
 "nbformat_minor": 2
}
